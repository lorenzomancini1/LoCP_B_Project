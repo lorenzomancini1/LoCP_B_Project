{
 "cells": [
  {
   "cell_type": "markdown",
   "metadata": {},
   "source": [
    "# ESTIMATION OF FUTURE MERGING EVENTS"
   ]
  },
  {
   "cell_type": "markdown",
   "metadata": {},
   "source": [
    "### Uploading files with last point and event type for each simulation "
   ]
  },
  {
   "cell_type": "code",
   "execution_count": 1,
   "metadata": {},
   "outputs": [],
   "source": [
    "import os\n",
    "import csv\n",
    "import pandas as pd \n",
    "import numpy as np\n",
    "import matplotlib.pyplot as plt"
   ]
  },
  {
   "cell_type": "code",
   "execution_count": 2,
   "metadata": {},
   "outputs": [],
   "source": [
    "def fileinput_from_file (input_directory_file):\n",
    "    \n",
    "    input_directory_file = input_directory_file +\".dat\"\n",
    "\n",
    "    df = pd.read_csv( input_directory_file , sep=\",\", header=0)\n",
    "    print(\"OK! Uploaded file:\",input_directory_file)\n",
    "    return(df)  \n"
   ]
  },
  {
   "cell_type": "code",
   "execution_count": 3,
   "metadata": {},
   "outputs": [
    {
     "name": "stdout",
     "output_type": "stream",
     "text": [
      "OK! Uploaded file: NSC_N10000_ok_phy.dat\n",
      "OK! Uploaded file: NSC_N10000_ok_nb.dat\n",
      "OK! Uploaded file: YSC_N10000_ok_phy.dat\n",
      "OK! Uploaded file: YSC_N10000_ok_nb.dat\n"
     ]
    }
   ],
   "source": [
    "data_phy_NSC = fileinput_from_file(\"NSC_N10000_ok_phy\") \n",
    "data_nb_NSC = fileinput_from_file(\"NSC_N10000_ok_nb\") \n",
    "data_phy_YSC = fileinput_from_file(\"YSC_N10000_ok_phy\") \n",
    "data_nb_YSC = fileinput_from_file(\"YSC_N10000_ok_nb\") "
   ]
  },
  {
   "cell_type": "code",
   "execution_count": 4,
   "metadata": {
    "scrolled": false
   },
   "outputs": [
    {
     "data": {
      "text/html": [
       "<div>\n",
       "<style scoped>\n",
       "    .dataframe tbody tr th:only-of-type {\n",
       "        vertical-align: middle;\n",
       "    }\n",
       "\n",
       "    .dataframe tbody tr th {\n",
       "        vertical-align: top;\n",
       "    }\n",
       "\n",
       "    .dataframe thead th {\n",
       "        text-align: right;\n",
       "    }\n",
       "</style>\n",
       "<table border=\"1\" class=\"dataframe\">\n",
       "  <thead>\n",
       "    <tr style=\"text-align: right;\">\n",
       "      <th></th>\n",
       "      <th>m</th>\n",
       "      <th>x</th>\n",
       "      <th>y</th>\n",
       "      <th>z</th>\n",
       "      <th>vx</th>\n",
       "      <th>vy</th>\n",
       "      <th>vz</th>\n",
       "      <th>Eb</th>\n",
       "      <th>simulation</th>\n",
       "      <th>event</th>\n",
       "    </tr>\n",
       "  </thead>\n",
       "  <tbody>\n",
       "    <tr>\n",
       "      <th>3483</th>\n",
       "      <td>9.785056e+31</td>\n",
       "      <td>2.452733e+16</td>\n",
       "      <td>6.729434e+16</td>\n",
       "      <td>-1.168997e+16</td>\n",
       "      <td>8313.260482</td>\n",
       "      <td>23745.785601</td>\n",
       "      <td>-3643.777589</td>\n",
       "      <td>-1.734532e+41</td>\n",
       "      <td>1161</td>\n",
       "      <td>merge</td>\n",
       "    </tr>\n",
       "    <tr>\n",
       "      <th>3484</th>\n",
       "      <td>2.181282e+31</td>\n",
       "      <td>-1.100277e+17</td>\n",
       "      <td>-3.018771e+17</td>\n",
       "      <td>5.244029e+16</td>\n",
       "      <td>-37292.625791</td>\n",
       "      <td>-106521.706886</td>\n",
       "      <td>16345.696659</td>\n",
       "      <td>-0.000000e+00</td>\n",
       "      <td>1161</td>\n",
       "      <td>merge</td>\n",
       "    </tr>\n",
       "    <tr>\n",
       "      <th>3485</th>\n",
       "      <td>0.000000e+00</td>\n",
       "      <td>0.000000e+00</td>\n",
       "      <td>0.000000e+00</td>\n",
       "      <td>0.000000e+00</td>\n",
       "      <td>0.000000</td>\n",
       "      <td>0.000000</td>\n",
       "      <td>0.000000</td>\n",
       "      <td>-0.000000e+00</td>\n",
       "      <td>1161</td>\n",
       "      <td>merge</td>\n",
       "    </tr>\n",
       "    <tr>\n",
       "      <th>4347</th>\n",
       "      <td>1.376237e+32</td>\n",
       "      <td>-2.462175e+16</td>\n",
       "      <td>3.417534e+15</td>\n",
       "      <td>1.431820e+16</td>\n",
       "      <td>-12398.936922</td>\n",
       "      <td>1076.400959</td>\n",
       "      <td>6289.572938</td>\n",
       "      <td>-0.000000e+00</td>\n",
       "      <td>1449</td>\n",
       "      <td>merge</td>\n",
       "    </tr>\n",
       "    <tr>\n",
       "      <th>4348</th>\n",
       "      <td>0.000000e+00</td>\n",
       "      <td>0.000000e+00</td>\n",
       "      <td>0.000000e+00</td>\n",
       "      <td>0.000000e+00</td>\n",
       "      <td>0.000000</td>\n",
       "      <td>0.000000</td>\n",
       "      <td>0.000000</td>\n",
       "      <td>-0.000000e+00</td>\n",
       "      <td>1449</td>\n",
       "      <td>merge</td>\n",
       "    </tr>\n",
       "  </tbody>\n",
       "</table>\n",
       "</div>"
      ],
      "text/plain": [
       "                 m             x             y             z            vx  \\\n",
       "3483  9.785056e+31  2.452733e+16  6.729434e+16 -1.168997e+16   8313.260482   \n",
       "3484  2.181282e+31 -1.100277e+17 -3.018771e+17  5.244029e+16 -37292.625791   \n",
       "3485  0.000000e+00  0.000000e+00  0.000000e+00  0.000000e+00      0.000000   \n",
       "4347  1.376237e+32 -2.462175e+16  3.417534e+15  1.431820e+16 -12398.936922   \n",
       "4348  0.000000e+00  0.000000e+00  0.000000e+00  0.000000e+00      0.000000   \n",
       "\n",
       "                 vy            vz            Eb  simulation  event  \n",
       "3483   23745.785601  -3643.777589 -1.734532e+41        1161  merge  \n",
       "3484 -106521.706886  16345.696659 -0.000000e+00        1161  merge  \n",
       "3485       0.000000      0.000000 -0.000000e+00        1161  merge  \n",
       "4347    1076.400959   6289.572938 -0.000000e+00        1449  merge  \n",
       "4348       0.000000      0.000000 -0.000000e+00        1449  merge  "
      ]
     },
     "execution_count": 4,
     "metadata": {},
     "output_type": "execute_result"
    }
   ],
   "source": [
    "# An examples\n",
    "data_phy_NSC[data_phy_NSC.event == \"merge\"].head()"
   ]
  },
  {
   "cell_type": "markdown",
   "metadata": {},
   "source": [
    "### Simple function to count the number of event"
   ]
  },
  {
   "cell_type": "code",
   "execution_count": 5,
   "metadata": {},
   "outputs": [],
   "source": [
    "def count_events (dataframe):\n",
    "    counts = np.array( [len(dataframe[dataframe.event == 'flyby']),\n",
    "                        len(dataframe[dataframe.event == 'change13']),\n",
    "                        len(dataframe[dataframe.event == 'change23']),\n",
    "                        len(dataframe[dataframe.event == 'ionization']),\n",
    "                        len(dataframe[dataframe.event == 'merge']),\n",
    "                        len(dataframe[dataframe.event == 'Not_found']) ] )\n",
    "    df=pd.DataFrame(counts/3, columns=[\"counts\"], index = [\"flyby\",\"change13\",\"change23\",\"ionization\",\"merge\",\"Not_found\"] ).T\n",
    "    return(df)"
   ]
  },
  {
   "cell_type": "code",
   "execution_count": 6,
   "metadata": {},
   "outputs": [],
   "source": [
    "N=10000\n",
    "\n",
    "NSC_events_phy = count_events(data_phy_NSC)\n",
    "\n",
    "NSC_events_nb = count_events(data_nb_NSC)\n",
    "\n",
    "YSC_events_phy = count_events(data_phy_YSC)\n",
    "\n",
    "YSC_events_nb = count_events(data_nb_YSC)"
   ]
  },
  {
   "cell_type": "code",
   "execution_count": 7,
   "metadata": {
    "scrolled": false
   },
   "outputs": [
    {
     "name": "stdout",
     "output_type": "stream",
     "text": [
      "\n",
      "\t\tNUCLEAR STAR CLUSTER (NSC)\n"
     ]
    },
    {
     "data": {
      "text/html": [
       "<div>\n",
       "<style scoped>\n",
       "    .dataframe tbody tr th:only-of-type {\n",
       "        vertical-align: middle;\n",
       "    }\n",
       "\n",
       "    .dataframe tbody tr th {\n",
       "        vertical-align: top;\n",
       "    }\n",
       "\n",
       "    .dataframe thead th {\n",
       "        text-align: right;\n",
       "    }\n",
       "</style>\n",
       "<table border=\"1\" class=\"dataframe\">\n",
       "  <thead>\n",
       "    <tr style=\"text-align: right;\">\n",
       "      <th></th>\n",
       "      <th>flyby</th>\n",
       "      <th>change13</th>\n",
       "      <th>change23</th>\n",
       "      <th>ionization</th>\n",
       "      <th>merge</th>\n",
       "      <th>Not_found</th>\n",
       "    </tr>\n",
       "  </thead>\n",
       "  <tbody>\n",
       "    <tr>\n",
       "      <th>counts</th>\n",
       "      <td>7928.0</td>\n",
       "      <td>313.0</td>\n",
       "      <td>727.0</td>\n",
       "      <td>1009.0</td>\n",
       "      <td>22.0</td>\n",
       "      <td>1.0</td>\n",
       "    </tr>\n",
       "  </tbody>\n",
       "</table>\n",
       "</div>"
      ],
      "text/plain": [
       "         flyby  change13  change23  ionization  merge  Not_found\n",
       "counts  7928.0     313.0     727.0      1009.0   22.0        1.0"
      ]
     },
     "execution_count": 7,
     "metadata": {},
     "output_type": "execute_result"
    }
   ],
   "source": [
    "print(\"\\n\\t\\tNUCLEAR STAR CLUSTER (NSC)\")\n",
    "NSC_events_phy"
   ]
  },
  {
   "cell_type": "code",
   "execution_count": 8,
   "metadata": {},
   "outputs": [
    {
     "name": "stdout",
     "output_type": "stream",
     "text": [
      "\n",
      "\t\tYOUNG STAR CLUSTER (YSC)\n"
     ]
    },
    {
     "data": {
      "text/html": [
       "<div>\n",
       "<style scoped>\n",
       "    .dataframe tbody tr th:only-of-type {\n",
       "        vertical-align: middle;\n",
       "    }\n",
       "\n",
       "    .dataframe tbody tr th {\n",
       "        vertical-align: top;\n",
       "    }\n",
       "\n",
       "    .dataframe thead th {\n",
       "        text-align: right;\n",
       "    }\n",
       "</style>\n",
       "<table border=\"1\" class=\"dataframe\">\n",
       "  <thead>\n",
       "    <tr style=\"text-align: right;\">\n",
       "      <th></th>\n",
       "      <th>flyby</th>\n",
       "      <th>change13</th>\n",
       "      <th>change23</th>\n",
       "      <th>ionization</th>\n",
       "      <th>merge</th>\n",
       "      <th>Not_found</th>\n",
       "    </tr>\n",
       "  </thead>\n",
       "  <tbody>\n",
       "    <tr>\n",
       "      <th>counts</th>\n",
       "      <td>7617.0</td>\n",
       "      <td>443.0</td>\n",
       "      <td>1678.0</td>\n",
       "      <td>63.0</td>\n",
       "      <td>11.0</td>\n",
       "      <td>188.0</td>\n",
       "    </tr>\n",
       "  </tbody>\n",
       "</table>\n",
       "</div>"
      ],
      "text/plain": [
       "         flyby  change13  change23  ionization  merge  Not_found\n",
       "counts  7617.0     443.0    1678.0        63.0   11.0      188.0"
      ]
     },
     "execution_count": 8,
     "metadata": {},
     "output_type": "execute_result"
    }
   ],
   "source": [
    "print(\"\\n\\t\\tYOUNG STAR CLUSTER (YSC)\")\n",
    "YSC_events_phy"
   ]
  },
  {
   "cell_type": "markdown",
   "metadata": {},
   "source": [
    "### Retrieving merge events"
   ]
  },
  {
   "cell_type": "code",
   "execution_count": 9,
   "metadata": {},
   "outputs": [
    {
     "name": "stdout",
     "output_type": "stream",
     "text": [
      "Simulation number of merging event for NSC:\n",
      " [1161 1449 1878 2048 2252 2623 3037 3077 3212 3446 4297 5435 5480 5727\n",
      " 6064 6389 6820 7198 8692 8764 9427 9492] \n",
      "\n",
      "NSC: Tot event: 22\n",
      "\n",
      "\n",
      "Simulation number of merging event for YSC:\n",
      " [1758 2416 4789 5111 7412 7911 8430 8856 9208 9768 9926] \n",
      "\n",
      "YSC: Tot event: 11\n"
     ]
    }
   ],
   "source": [
    "merge_N_df = data_nb_NSC[data_nb_NSC.event == 'merge']\n",
    "merge_Y_df = data_nb_YSC[data_nb_YSC.event == 'merge']\n",
    "\n",
    "merge_N_sim_num = np.unique(np.array(merge_N_df.simulation.values))\n",
    "merge_Y_sim_num = np.unique(np.array(merge_Y_df.simulation.values))\n",
    "\n",
    "print(\"Simulation number of merging event for NSC:\\n\", merge_N_sim_num, \"\\n\\nNSC: Tot event:\", np.count_nonzero(merge_N_sim_num))\n",
    "print(\"\\n\\nSimulation number of merging event for YSC:\\n\", merge_Y_sim_num, \"\\n\\nYSC: Tot event:\", np.count_nonzero(merge_Y_sim_num))"
   ]
  },
  {
   "cell_type": "markdown",
   "metadata": {},
   "source": [
    "# Computation of  $t_{GW}$"
   ]
  },
  {
   "cell_type": "code",
   "execution_count": 10,
   "metadata": {
    "scrolled": true
   },
   "outputs": [
    {
     "name": "stdout",
     "output_type": "stream",
     "text": [
      "OK! Uploaded file: NSC_semi_major_axis_tail.dat\n",
      "OK! Uploaded file: YSC_semi_major_axis_tail.dat\n"
     ]
    }
   ],
   "source": [
    "NSC_ae = fileinput_from_file(\"NSC_semi_major_axis_tail\")\n",
    "YSC_ae = fileinput_from_file(\"YSC_semi_major_axis_tail\")"
   ]
  },
  {
   "cell_type": "code",
   "execution_count": 11,
   "metadata": {},
   "outputs": [],
   "source": [
    "def calc_T_gw (m1,m2, a, e, sim, use_e=False):\n",
    "    \n",
    "    G_phy = 6.67408e-11                   # in m^3 * kg^-1 * s^-2\n",
    "    G_nb = 1\n",
    "    \n",
    "    M_scale =  1.988e30             # in Kg (solar Mass --> 1.988 * 10^30 Kg)\n",
    "    L_scale = 3.08567758130573e16    # in m (1 pc --> 3.08567758130573 * 10^16 m)\n",
    "    T_scale = np.sqrt(L_scale**3 / (G_phy * M_scale))\n",
    "    \n",
    "    c = 2.998e+8 / (L_scale/T_scale)   # from [m/s] to [pc/yr] \n",
    "    \n",
    "    \n",
    "    if use_e==True:\n",
    "        timeGW = (5/256)*  c**5 /G_nb**3 * ( (a**4) * (1-e**2)**(7/2) ) / (m1*m2*(m1+m2)) \n",
    "    else:\n",
    "        timeGW = (5/256)*  c**5/G_nb**3 *  (a**4) / ( m1*m2*(m1+m2) )\n",
    "    \n",
    "    timeGW = timeGW * T_scale\n",
    "    d = {'timeGW':timeGW, \"simulation\": sim}\n",
    "    return(pd.DataFrame(d))"
   ]
  },
  {
   "cell_type": "code",
   "execution_count": 12,
   "metadata": {},
   "outputs": [],
   "source": [
    "thres_yr= 13.8e9  # age of universe\n",
    "sec_in_yr = 3.1536e7\n",
    "thres_yr_s = thres_yr * sec_in_yr"
   ]
  },
  {
   "cell_type": "code",
   "execution_count": 13,
   "metadata": {},
   "outputs": [],
   "source": [
    "def timeGW_and_plot (dataframe_nb, event_type, cluster_ae, bins_v=40, plot_comp_peter=False):\n",
    "\n",
    "    # Only flybies event\n",
    "    event_data_cluster = dataframe_nb[dataframe_nb.event == event_type ]\n",
    "\n",
    "    #simulation's number of change 13\n",
    "    sim_event= np.unique(event_data_cluster.simulation)\n",
    "\n",
    "    dt_ae = cluster_ae[cluster_ae[\"simulation\"].isin(sim_event)]\n",
    "\n",
    "    if event_type == \"flyby\":\n",
    "        first=0\n",
    "        second=1\n",
    "        name1=\"BH1\"\n",
    "        name2=\"BH2\"\n",
    "    elif event_type == \"change13\": \n",
    "        first=2\n",
    "        second=1\n",
    "        name1=\"BH3\"\n",
    "        name2=\"BH2\"\n",
    "    elif event_type == \"change23\": \n",
    "        first=2\n",
    "        second=0\n",
    "        name1=\"BH3\"\n",
    "        name2=\"BH1\"\n",
    "    \n",
    "    bh1_N_m = event_data_cluster[first::3].m.values # 3rd BH ( exchange13) \n",
    "    bh2_N_m = event_data_cluster[second::3].m.values # 2nd BH\n",
    "    a = dt_ae.A\n",
    "    e = dt_ae.e\n",
    "\n",
    "    #using Peters relation (NOT using eccentricity value)\n",
    "    timeGW_event_apprx = calc_T_gw( bh1_N_m, bh2_N_m, a, e, sim_event, use_e = False)\n",
    "    \n",
    "    #using Peters relation (USING eccentricity value)\n",
    "    timeGW_event       = calc_T_gw( bh1_N_m, bh2_N_m, a, e, sim_event, use_e = True)\n",
    "\n",
    "    event_will_merge_apprx = timeGW_event_apprx [ timeGW_event_apprx.timeGW < thres_yr_s]\n",
    "    event_will_merge       = timeGW_event       [ timeGW_event.timeGW       < thres_yr_s]\n",
    "\n",
    "\n",
    "    m1_event_apprx = dataframe_nb.m[dataframe_nb[\"simulation\"].isin(event_will_merge_apprx.simulation)][first::3]\n",
    "    m2_event_apprx = dataframe_nb.m[dataframe_nb[\"simulation\"].isin(event_will_merge_apprx.simulation)][second::3]\n",
    "    m1_event = dataframe_nb.m[dataframe_nb[\"simulation\"].isin(event_will_merge.simulation)][first::3]\n",
    "    m2_event = dataframe_nb.m[dataframe_nb[\"simulation\"].isin(event_will_merge.simulation)][second::3]\n",
    "\n",
    "    dict_df = {\"m1\":m1_event.values,\"m2\":m2_event.values,\"timeGW\": event_will_merge.timeGW, \"simulation\":event_will_merge.simulation,\"event\":event_type}\n",
    "    \n",
    "    \n",
    "    if plot_comp_peter==True:\n",
    "    \n",
    "        #number of binary that merge in a Hubble time (Peters relation with and without eccentricy contribution)\n",
    "        fig, (ax0,ax1)= plt.subplots(1,2, figsize=(14,5))\n",
    "        ax0.hist(event_will_merge_apprx[\"timeGW\"]/(sec_in_yr*1e9), bins= 20, color='gold')#label=\"Merging in a Hubble-time\")\n",
    "        ax0.set_title(\"{} events: merging in a Hubble time\".format(event_type.upper()) )\n",
    "        ax0.set_xlabel(\"Time [Gyr]\")\n",
    "        ax0.set_ylabel(\"Frequency\")\n",
    "        ax0.text(0.6,0.8, \"# event: {} \\n# total {}: {}\"\n",
    "                 .format(len(event_will_merge_apprx), event_type, len(sim_event)),\n",
    "                transform=ax0.transAxes,fontsize= 12)\n",
    "        ax0.text(0.65,0.6, r\"$t_{GW} \\sim a^4 $\",\n",
    "                  transform=ax0.transAxes, fontsize= 14,bbox=dict(facecolor='gold', alpha=0.2))\n",
    "        #ax0.legend(fontsize= 12)\n",
    "\n",
    "        ax1.hist(event_will_merge[\"timeGW\"]/(sec_in_yr*1e9), bins=20,color= 'brown')# label=\"Merging in a Hubble-time\")\n",
    "        ax1.set_title(\"{} events: merging in a Hubble time\".format(event_type.upper()) )\n",
    "        ax1.set_xlabel(\"Time [Gyr]\")\n",
    "        ax1.set_ylabel(\"Frequency\")\n",
    "        ax1.text(0.6,0.8, \"# event: {} \\n# total {}: {}\"\n",
    "                 .format(len(event_will_merge), event_type, len(sim_event)),\n",
    "                  transform=ax1.transAxes, fontsize= 12)\n",
    "        ax1.text(0.6,0.6, r\"$t_{GW} \\sim a^4 (1-e^2)^{7/2}$\",\n",
    "                  transform=ax1.transAxes, fontsize= 14, bbox=dict(facecolor='brown', alpha=0.2))\n",
    "        #ax1.legend( fontsize= 12)\n",
    "        plt.show()\n",
    "\n",
    "        #distribution mass of binaries that merge in a Hubble time (Peters relation with and without eccentricy contribution)\n",
    "        fig, (ax2,ax3)= plt.subplots(1,2, figsize=(14,5))\n",
    "\n",
    "        bins_apprx = np.linspace(0, max(np.fmax(m1_event_apprx,m2_event_apprx)) , bins_v)\n",
    "        bins = np.linspace(0, max(np.fmax(m1_event,m2_event)) , bins_v)\n",
    "\n",
    "        ax2.hist(m1_event_apprx, bins_apprx, alpha=0.5, label='{} mass'.format(name1))\n",
    "        ax2.hist(m2_event_apprx, bins_apprx, alpha=0.5, label='{} mass'.format(name2))\n",
    "        ax2.set_title(\"Mass distribution of binaries that\\n will merge in a Hubble Time \")\n",
    "        ax2.set_xlabel(\"Solar Masses\")\n",
    "        ax2.set_ylabel(\"Frequency\")\n",
    "        ax2.legend(loc='upper right')\n",
    "\n",
    "        ax3.hist(m1_event, bins, alpha=0.5, label='BH1 mass')\n",
    "        ax3.hist(m2_event, bins, alpha=0.5, label='BH2 mass')\n",
    "        ax3.set_title(\"Mass distribution of binaries that\\n will merge in a Hubble Time \")\n",
    "        ax3.set_xlabel(\"Solar Masses\")\n",
    "        ax3.set_ylabel(\"Frequency\")\n",
    "        ax3.legend(loc='upper right')\n",
    "        plt.show()\n",
    "    \n",
    "    else:\n",
    "        return(pd.DataFrame(dict_df))"
   ]
  },
  {
   "cell_type": "code",
   "execution_count": 15,
   "metadata": {
    "scrolled": false
   },
   "outputs": [],
   "source": [
    "ch13_NSC = timeGW_and_plot (data_nb_NSC, event_type='change13', cluster_ae=NSC_ae)\n",
    "ch23_NSC = timeGW_and_plot (data_nb_NSC, event_type='change23', cluster_ae=NSC_ae)\n",
    "ch13_YSC = timeGW_and_plot (data_nb_YSC, event_type='change13', cluster_ae=YSC_ae)\n",
    "ch23_YSC = timeGW_and_plot (data_nb_YSC, event_type='change23', cluster_ae=YSC_ae)\n",
    "\n",
    "\n",
    "fly_NSC  = timeGW_and_plot (data_nb_NSC, event_type='flyby',    cluster_ae=NSC_ae)\n",
    "ch_NSC = pd.concat([ch13_NSC,ch23_NSC],axis=0)\n",
    "\n",
    "fly_YSC  = timeGW_and_plot (data_nb_YSC, event_type='flyby',    cluster_ae=YSC_ae)\n",
    "ch_YSC = pd.concat([ch13_YSC,ch23_YSC],axis=0)"
   ]
  },
  {
   "cell_type": "code",
   "execution_count": 16,
   "metadata": {},
   "outputs": [
    {
     "data": {
      "text/html": [
       "<div>\n",
       "<style scoped>\n",
       "    .dataframe tbody tr th:only-of-type {\n",
       "        vertical-align: middle;\n",
       "    }\n",
       "\n",
       "    .dataframe tbody tr th {\n",
       "        vertical-align: top;\n",
       "    }\n",
       "\n",
       "    .dataframe thead th {\n",
       "        text-align: right;\n",
       "    }\n",
       "</style>\n",
       "<table border=\"1\" class=\"dataframe\">\n",
       "  <thead>\n",
       "    <tr style=\"text-align: right;\">\n",
       "      <th></th>\n",
       "      <th>m1</th>\n",
       "      <th>m2</th>\n",
       "      <th>timeGW</th>\n",
       "      <th>simulation</th>\n",
       "      <th>event</th>\n",
       "    </tr>\n",
       "  </thead>\n",
       "  <tbody>\n",
       "    <tr>\n",
       "      <th>18</th>\n",
       "      <td>37.653836</td>\n",
       "      <td>12.702558</td>\n",
       "      <td>1.699311e+14</td>\n",
       "      <td>18</td>\n",
       "      <td>flyby</td>\n",
       "    </tr>\n",
       "    <tr>\n",
       "      <th>67</th>\n",
       "      <td>35.395082</td>\n",
       "      <td>29.910703</td>\n",
       "      <td>1.380782e+17</td>\n",
       "      <td>67</td>\n",
       "      <td>flyby</td>\n",
       "    </tr>\n",
       "    <tr>\n",
       "      <th>68</th>\n",
       "      <td>55.040673</td>\n",
       "      <td>15.623871</td>\n",
       "      <td>3.251888e+17</td>\n",
       "      <td>68</td>\n",
       "      <td>flyby</td>\n",
       "    </tr>\n",
       "    <tr>\n",
       "      <th>79</th>\n",
       "      <td>29.884712</td>\n",
       "      <td>7.414262</td>\n",
       "      <td>2.747668e+17</td>\n",
       "      <td>79</td>\n",
       "      <td>flyby</td>\n",
       "    </tr>\n",
       "    <tr>\n",
       "      <th>81</th>\n",
       "      <td>39.094780</td>\n",
       "      <td>23.603472</td>\n",
       "      <td>1.624374e+17</td>\n",
       "      <td>81</td>\n",
       "      <td>flyby</td>\n",
       "    </tr>\n",
       "    <tr>\n",
       "      <th>...</th>\n",
       "      <td>...</td>\n",
       "      <td>...</td>\n",
       "      <td>...</td>\n",
       "      <td>...</td>\n",
       "      <td>...</td>\n",
       "    </tr>\n",
       "    <tr>\n",
       "      <th>9938</th>\n",
       "      <td>69.801697</td>\n",
       "      <td>18.328096</td>\n",
       "      <td>2.566582e+17</td>\n",
       "      <td>9938</td>\n",
       "      <td>flyby</td>\n",
       "    </tr>\n",
       "    <tr>\n",
       "      <th>9965</th>\n",
       "      <td>49.795542</td>\n",
       "      <td>42.267025</td>\n",
       "      <td>2.844356e+14</td>\n",
       "      <td>9965</td>\n",
       "      <td>flyby</td>\n",
       "    </tr>\n",
       "    <tr>\n",
       "      <th>9985</th>\n",
       "      <td>42.971971</td>\n",
       "      <td>27.530201</td>\n",
       "      <td>2.795817e+17</td>\n",
       "      <td>9985</td>\n",
       "      <td>flyby</td>\n",
       "    </tr>\n",
       "    <tr>\n",
       "      <th>9986</th>\n",
       "      <td>27.641320</td>\n",
       "      <td>24.694067</td>\n",
       "      <td>1.046043e+17</td>\n",
       "      <td>9986</td>\n",
       "      <td>flyby</td>\n",
       "    </tr>\n",
       "    <tr>\n",
       "      <th>9996</th>\n",
       "      <td>58.549642</td>\n",
       "      <td>28.782731</td>\n",
       "      <td>9.754022e+14</td>\n",
       "      <td>9996</td>\n",
       "      <td>flyby</td>\n",
       "    </tr>\n",
       "  </tbody>\n",
       "</table>\n",
       "<p>482 rows × 5 columns</p>\n",
       "</div>"
      ],
      "text/plain": [
       "             m1         m2        timeGW  simulation  event\n",
       "18    37.653836  12.702558  1.699311e+14          18  flyby\n",
       "67    35.395082  29.910703  1.380782e+17          67  flyby\n",
       "68    55.040673  15.623871  3.251888e+17          68  flyby\n",
       "79    29.884712   7.414262  2.747668e+17          79  flyby\n",
       "81    39.094780  23.603472  1.624374e+17          81  flyby\n",
       "...         ...        ...           ...         ...    ...\n",
       "9938  69.801697  18.328096  2.566582e+17        9938  flyby\n",
       "9965  49.795542  42.267025  2.844356e+14        9965  flyby\n",
       "9985  42.971971  27.530201  2.795817e+17        9985  flyby\n",
       "9986  27.641320  24.694067  1.046043e+17        9986  flyby\n",
       "9996  58.549642  28.782731  9.754022e+14        9996  flyby\n",
       "\n",
       "[482 rows x 5 columns]"
      ]
     },
     "execution_count": 16,
     "metadata": {},
     "output_type": "execute_result"
    }
   ],
   "source": [
    "fly_NSC"
   ]
  },
  {
   "cell_type": "markdown",
   "metadata": {},
   "source": [
    "# YSC - NSC: analysis $t_{GW}$\n",
    "\n",
    "#### Example of different computation of $t_{GW}$, with and without the eccentricity $e$ for NSC\n"
   ]
  },
  {
   "cell_type": "code",
   "execution_count": 17,
   "metadata": {
    "scrolled": false
   },
   "outputs": [
    {
     "data": {
      "image/png": "[encoded data removed]",
      "text/plain": [
       "<Figure size 1008x360 with 2 Axes>"
      ]
     },
     "metadata": {
      "needs_background": "light"
     },
     "output_type": "display_data"
    },
    {
     "data": {
      "image/png": "[encoded data removed]",
      "text/plain": [
       "<Figure size 1008x360 with 2 Axes>"
      ]
     },
     "metadata": {
      "needs_background": "light"
     },
     "output_type": "display_data"
    }
   ],
   "source": [
    "# For flybies, plot the difference of approximating t_GW, not considering the eccentricity\n",
    "timeGW_and_plot (data_nb_NSC, event_type='flyby', cluster_ae=NSC_ae,plot_comp_peter=True)\n",
    "#timeGW_and_plot (data_nb_YSC, event_type='flyby', cluster_ae=YSC_ae,plot_comp_peter=True)\n",
    "\n",
    "#timeGW_and_plot (data_nb_NSC, event_type='change13', cluster_ae=NSC_ae,plot_comp_peter=True)\n",
    "#timeGW_and_plot (data_nb_NSC, event_type='change23', cluster_ae=NSC_ae,plot_comp_peter=True)"
   ]
  },
  {
   "cell_type": "code",
   "execution_count": 18,
   "metadata": {},
   "outputs": [],
   "source": [
    "def plot_tgw (df_NSC,df_YSC,event, bins, col1,col2):\n",
    "        \n",
    "        #number of binary that merge in a Hubble time (Peters relation with and without eccentricy contribution)\n",
    "        fig, (ax1,ax0)= plt.subplots(1,2, figsize=(10,5))\n",
    "        #fig.suptitle(\"{}\".format(event.upper()), fontsize=20)\n",
    "        \n",
    "        ax0.hist(df_NSC[\"timeGW\"]/(sec_in_yr*1e9), bins= bins, color=col1, ec = \"k\", histtype = \"step\", fill = True)#label=\"Merging in a Hubble-time\")\n",
    "        #ax0.set_title(\"{} events: merging in a Hubble time\".format(event.upper()) )\n",
    "        ax0.set_xlabel(\"Time [Gyr]\", size = 14)\n",
    "        #ax0.set_ylabel(\"Frequency\", size = 14)\n",
    "        if event =='flyby':  tmp = len(data_nb_NSC[data_nb_NSC.event == 'flyby'])\n",
    "        else: tmp = len(data_nb_NSC[data_nb_NSC.event.isin(np.unique('change13')) | data_nb_NSC.event.isin(np.unique('change23'))])\n",
    "        ax0.text(0.30,0.8, \"NSC:\\n#event: {} \\n# total {}: {}\"\n",
    "                 .format(len(df_NSC), event, tmp), transform=ax0.transAxes,fontsize= 14)\n",
    "        ax0.grid(which = \"both\", alpha = 0.3, linestyle = \"--\")\n",
    "        ax0.text(0.30,0.6, r\"$t_{GW} \\sim a^4 (1-e^2)^{7/2}$\",\n",
    "                  transform=ax0.transAxes, fontsize= 12,bbox=dict(facecolor=col1, alpha=0.2))\n",
    "        ax0.tick_params(axis = \"x\", labelsize = 14)\n",
    "        ax0.tick_params(axis = \"y\", labelsize = 14)\n",
    "        #ax0.legend(fontsize= 12)\n",
    "\n",
    "        ax1.hist(df_YSC[\"timeGW\"]/(sec_in_yr*1e9), bins=bins,color= col2, ec = \"k\", histtype = \"step\", fill = True)# label=\"Merging in a Hubble-time\")\n",
    "        #ax1.set_title(\"{} events: merging in a Hubble time\".format(event.upper()) )\n",
    "        ax1.set_xlabel(\"Time [Gyr]\", size = 14)\n",
    "        ax1.set_ylabel(\"Frequency\", size = 14)\n",
    "        if event =='flyby':  tmp = len(data_nb_YSC[data_nb_YSC.event == 'flyby'])\n",
    "        else: tmp = len(data_nb_YSC[data_nb_YSC.event.isin(np.unique('change13')) | data_nb_YSC.event.isin(np.unique('change23'))])\n",
    "        ax1.text(0.30,0.8, \"YSC:\\n# event: {} \\n# total {}: {}\"\n",
    "                 .format(len(df_YSC), event,tmp),transform=ax1.transAxes, fontsize= 14)\n",
    "        ax1.grid(which = \"both\", alpha = 0.3, linestyle = \"--\")\n",
    "        ax1.text(0.30,0.6, r\"$t_{GW} \\sim a^4 (1-e^2)^{7/2}$\",\n",
    "                  transform=ax1.transAxes, fontsize= 12, bbox=dict(facecolor=col2, alpha=0.2))\n",
    "        ax1.tick_params(axis = \"x\", labelsize = 14)\n",
    "        ax1.tick_params(axis = \"y\", labelsize = 14)\n",
    "        #ax1.legend( fontsize= 12)\n",
    "        plt.show()\n",
    "        return fig"
   ]
  },
  {
   "cell_type": "code",
   "execution_count": 24,
   "metadata": {},
   "outputs": [
    {
     "data": {
      "image/png": "[encoded data removed]",
      "text/plain": [
       "<Figure size 720x360 with 2 Axes>"
      ]
     },
     "metadata": {
      "needs_background": "light"
     },
     "output_type": "display_data"
    },
    {
     "data": {
      "image/png": "[encoded data removed]",
      "text/plain": [
       "<Figure size 720x360 with 2 Axes>"
      ]
     },
     "metadata": {
      "needs_background": "light"
     },
     "output_type": "display_data"
    }
   ],
   "source": [
    "a = plot_tgw(fly_NSC[fly_NSC.timeGW < sec_in_yr*1e9/2],fly_YSC[fly_YSC.timeGW < sec_in_yr*1e9/2],'flyby',20,col1='red',col2='blue')\n",
    "b = plot_tgw(ch_NSC,ch_YSC,'exchange',20,col1='green',col2='orange')\n",
    "\n",
    "#a.savefig(\"fut_merge_fl.pdf\", transparent = True, bbox_inches = 'tight', pad_inches = 0)\n",
    "#b.savefig(\"fut_merge_ex.pdf\", transparent = True, bbox_inches = 'tight', pad_inches = 0)\n",
    "#plot_tgw(ch13_NSC,ch13_YSC,'change13',40,col1='green',col2='orange')\n",
    "#plot_tgw(ch23_NSC,ch23_YSC,'change23',40,col1='violet',col2='gray'"
   ]
  },
  {
   "cell_type": "code",
   "execution_count": 48,
   "metadata": {},
   "outputs": [],
   "source": [
    "def plot_mass (df_NSC,df_YSC, event, bins_v, col1,col2):\n",
    "        \n",
    "        label_name1 = \"BH1\"\n",
    "        label_name2 = \"BH2\"\n",
    "        \n",
    "        if event != \"flyby\":\n",
    "            label_name1 = \"BH intruder\"\n",
    "            label_name2 = \"BH original\"\n",
    "        \n",
    "        #number of binary that merge in a Hubble time (Peters relation with and without eccentricy contribution)\n",
    "        fig, (ax2,ax3)= plt.subplots(1,2, figsize=(14,5))\n",
    "        fig.suptitle(\"{}\".format(event.upper()), fontsize=20)\n",
    "        \n",
    "        bins = np.linspace(0, max(np.fmax(df_NSC.m1,df_NSC.m2)) , bins_v)\n",
    "        \n",
    "        ax2.hist(df_NSC[\"m1\"], bins= bins, alpha=0.5, color=col1, label=label_name1)\n",
    "        ax2.hist(df_NSC[\"m2\"], bins= bins, alpha=0.5, label=label_name2)\n",
    "\n",
    "        ax2.set_title(\"{} events: Mass distribution of binaries\".format(event.upper()) )\n",
    "        ax2.set_xlabel(r\"Solar Masses [$ \\sim 2 \\cdot 10^{30} \\, Kg$]\")\n",
    "        ax2.set_ylabel(\"Frequency\")\n",
    "        ax2.text(0.8,0.5, \" NSC \", transform=ax2.transAxes, fontsize=15,bbox=dict(alpha=0.2))\n",
    "        ax2.legend(fontsize= 12, loc='upper right')\n",
    "\n",
    "        bins = np.linspace(0, max(np.fmax(df_YSC.m1,df_YSC.m2)) , bins_v)\n",
    "        \n",
    "        ax3.hist(df_YSC[\"m1\"], bins= bins, alpha=0.5, color=col2, label=label_name1)\n",
    "        ax3.hist(df_YSC[\"m2\"], bins= bins, alpha=0.5, label=label_name2)\n",
    "\n",
    "        ax3.set_title(\"{} events: Mass distribution of binaries\".format(event.upper()) )\n",
    "        ax3.set_xlabel(\"Solar Masses [$ \\sim 2 \\cdot 10^{30} \\, Kg$]\")\n",
    "        ax3.set_ylabel(\"Frequency\")\n",
    "        ax3.text(0.8,0.5, \" YSC \", transform=ax3.transAxes, fontsize=15,bbox=dict(alpha=0.2))\n",
    "        ax3.legend(fontsize= 12, loc='upper right')\n",
    "\n",
    "        plt.show()"
   ]
  },
  {
   "cell_type": "code",
   "execution_count": 49,
   "metadata": {},
   "outputs": [
    {
     "data": {
      "image/png": "[encoded data removed]",
      "text/plain": [
       "<Figure size 1008x360 with 2 Axes>"
      ]
     },
     "metadata": {
      "needs_background": "light"
     },
     "output_type": "display_data"
    },
    {
     "data": {
      "image/png": "[encoded data removed]",
      "text/plain": [
       "<Figure size 1008x360 with 2 Axes>"
      ]
     },
     "metadata": {
      "needs_background": "light"
     },
     "output_type": "display_data"
    }
   ],
   "source": [
    "plot_mass (fly_NSC,fly_YSC,'flyby',25, col1='red',col2='blue')\n",
    "plot_mass(ch_NSC,ch_YSC,'exchange',25, col1='green',col2='orange')"
   ]
  },
  {
   "cell_type": "code",
   "execution_count": 20,
   "metadata": {
    "scrolled": false
   },
   "outputs": [
    {
     "name": "stdout",
     "output_type": "stream",
     "text": [
      "\n",
      "SUMMARY: event that will merge in a hubble time\n",
      "\n",
      "\n",
      "NSC:\n",
      "\tFLYBIES:   Event will merge in Hubble time:\t 482 \t( 23784 total flybies)\n",
      "\tCHANGE:    Event will merge in Hubble time:\t 139 \t( 3120 total changes)\n",
      "\n",
      "YSC:\n",
      "\tFLYBIES:    Event will merge in Hubble time:\t 271 \t( 22851 total flybies)\n",
      "\tCHANGE:     Event will merge in Hubble time:\t 94 \t( 6363 total changes)\n"
     ]
    }
   ],
   "source": [
    "print(\"\\nSUMMARY: event that will merge in a hubble time\\n\\n\")\n",
    "\n",
    "print(\"NSC:\")\n",
    "print(\"\\tFLYBIES:   Event will merge in Hubble time:\\t\",len(fly_NSC),\"\\t(\",len(data_nb_NSC[data_nb_NSC.event=='flyby']), \"total flybies)\")\n",
    "print(\"\\tCHANGE:    Event will merge in Hubble time:\\t\",len(ch_NSC),\"\\t(\",(len(data_nb_NSC[data_nb_NSC.event=='change13'])+\n",
    "                                                                             len(data_nb_NSC[data_nb_NSC.event=='change23'])), \"total changes)\" )\n",
    "\n",
    "#print(\"\\n\\tCHANGE 1-3: Event will merge in Hubble time:  \",len(ch13_NSC),\"\\t(\",(len(data_nb_NSC[data_nb_NSC.event=='change13'])), \"total changes13)\" )\n",
    "#print(\"\\tCHANGE 2-3: Event will merge in Hubble time:  \",len(ch23_NSC),\"\\t(\",(len(data_nb_NSC[data_nb_NSC.event=='change23'])), \"total changes23)\" )\n",
    "print(\"\\nYSC:\")\n",
    "print(\"\\tFLYBIES:    Event will merge in Hubble time:\\t\",len(fly_YSC),\"\\t(\",len(data_nb_YSC[data_nb_YSC.event=='flyby']), \"total flybies)\")\n",
    "print(\"\\tCHANGE:     Event will merge in Hubble time:\\t\",len(ch_YSC),\"\\t(\",(len(data_nb_YSC[data_nb_YSC.event=='change13'])+\n",
    "                                                                             len(data_nb_YSC[data_nb_YSC.event=='change23'])), \"total changes)\" )\n",
    "#print(\"\\n\\tCHANGE 1-3: Event will merge in Hubble time:  \",len(ch13_YSC),\"\\t(\",(len(data_nb_YSC[data_nb_YSC.event=='change13'])), \"total changes13)\" )\n",
    "#print(\"\\tCHANGE 2-3: Event will merge in Hubble time:  \",len(ch23_YSC),\"\\t(\",(len(data_nb_YSC[data_nb_YSC.event=='change23'])), \"total changes23)\" )"
   ]
  }
 ],
 "metadata": {
  "kernelspec": {
   "display_name": "Python 3",
   "language": "python",
   "name": "python3"
  },
  "language_info": {
   "codemirror_mode": {
    "name": "ipython",
    "version": 3
   },
   "file_extension": ".py",
   "mimetype": "text/x-python",
   "name": "python",
   "nbconvert_exporter": "python",
   "pygments_lexer": "ipython3",
   "version": "3.8.3"
  }
 },
 "nbformat": 4,
 "nbformat_minor": 4
}
